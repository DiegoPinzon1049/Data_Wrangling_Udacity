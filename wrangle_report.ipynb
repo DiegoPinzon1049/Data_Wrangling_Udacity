{
 "cells": [
  {
   "cell_type": "markdown",
   "metadata": {},
   "source": [
    "## Reporting: wragle_report\n",
    "* Create a **300-600 word written report** called \"wrangle_report.pdf\" or \"wrangle_report.html\" that briefly describes your wrangling efforts. This is to be framed as an internal document."
   ]
  },
  {
   "cell_type": "markdown",
   "metadata": {},
   "source": [
    "> In the journey of data refinement, one of the primary challenges encountered was navigating the data loading and comprehension phase. This initial hurdle was rooted in the complex task of understanding the myriad fields within the dataset and strategically selecting those most pertinent for subsequent analysis. Given that the data emanated from three distinct sources, this phase demanded a meticulous understanding before embarking on the merging of information from each DataFrame. This approach was driven by the aspiration to glean invaluable insights from every base, consequently mitigating the need for recurrent data cleansing when dealing with more extensive datasets.\n",
    "\n",
    "> The data cleansing facet introduced its own set of intricacies. At its core lay the discernment of diverse issues that warranted resolution. Identifying these problems emerged as the most intricate aspect of the data cleaning process, requiring a keen eye to spot irregularities and inconsistencies within the data. Once these issues were elucidated, the subsequent process of crafting Python scripts for data cleaning exhibited a more streamlined and systematic nature. This transition to the technical aspect underscored the significance of proactive problem identification in easing the later stages of data refinement.\n",
    "\n",
    "> Within the data cleansing stage, it was essential to identify fields afflicted by missing information – fields that would inevitably impede the generation of future insights. By recognizing and excluding these variables, the integrity of the subsequent analyses was safeguarded. Furthermore, the conscious decision to exclude such fields showcased a strategic approach that prioritized precision and the extraction of actionable insights over a higher quantity of data.\n",
    "\n",
    "> In conclusion, the expedition through data refinement was multifaceted, demanding a dual focus on the initial stages of data comprehension and the subsequent process of data cleansing. The comprehension phase, especially pertinent with multiple data sources, established the foundation for informed data merging. Subsequently, the meticulous identification and resolution of data issues paved the way for the more methodical development of Python scripts for data cleaning. Each phase demonstrated the intricate interplay between conceptual understanding and technical execution, underlining the need for a holistic approach in ensuring the quality and reliability of the refined dataset for future analysis."
   ]
  }
 ],
 "metadata": {
  "kernelspec": {
   "display_name": "Python 3",
   "language": "python",
   "name": "python3"
  },
  "language_info": {
   "codemirror_mode": {
    "name": "ipython",
    "version": 3
   },
   "file_extension": ".py",
   "mimetype": "text/x-python",
   "name": "python",
   "nbconvert_exporter": "python",
   "pygments_lexer": "ipython3",
   "version": "3.8.8"
  },
  "toc": {
   "base_numbering": 1,
   "nav_menu": {},
   "number_sections": true,
   "sideBar": true,
   "skip_h1_title": false,
   "title_cell": "Table of Contents",
   "title_sidebar": "Contents",
   "toc_cell": false,
   "toc_position": {},
   "toc_section_display": true,
   "toc_window_display": false
  },
  "varInspector": {
   "cols": {
    "lenName": 16,
    "lenType": 16,
    "lenVar": 40
   },
   "kernels_config": {
    "python": {
     "delete_cmd_postfix": "",
     "delete_cmd_prefix": "del ",
     "library": "var_list.py",
     "varRefreshCmd": "print(var_dic_list())"
    },
    "r": {
     "delete_cmd_postfix": ") ",
     "delete_cmd_prefix": "rm(",
     "library": "var_list.r",
     "varRefreshCmd": "cat(var_dic_list()) "
    }
   },
   "types_to_exclude": [
    "module",
    "function",
    "builtin_function_or_method",
    "instance",
    "_Feature"
   ],
   "window_display": false
  }
 },
 "nbformat": 4,
 "nbformat_minor": 2
}
