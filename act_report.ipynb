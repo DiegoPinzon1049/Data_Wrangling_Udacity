{
 "cells": [
  {
   "cell_type": "markdown",
   "metadata": {},
   "source": [
    "## Report: act_report\n",
    "* Create a **250-word-minimum written report** called \"act_report.pdf\" or \"act_report.html\" that communicates the insights and displays the visualization(s) produced from your wrangled data. This is to be framed as an external document, like a blog post or magazine article, for example."
   ]
  },
  {
   "cell_type": "code",
   "execution_count": 1,
   "metadata": {},
   "outputs": [
    {
     "name": "stderr",
     "output_type": "stream",
     "text": [
      "C:\\Users\\Lenovo\\anaconda3\\lib\\site-packages\\numpy\\_distributor_init.py:30: UserWarning: loaded more than 1 DLL from .libs:\n",
      "C:\\Users\\Lenovo\\anaconda3\\lib\\site-packages\\numpy\\.libs\\libopenblas.EL2C6PLE4ZYW3ECEVIV3OXXGRN2NRFM2.gfortran-win_amd64.dll\n",
      "C:\\Users\\Lenovo\\anaconda3\\lib\\site-packages\\numpy\\.libs\\libopenblas.WCDJNK7YVMPZQ2ME2ZZHJJRJ3JIKNDB7.gfortran-win_amd64.dll\n",
      "  warnings.warn(\"loaded more than 1 DLL from .libs:\"\n"
     ]
    }
   ],
   "source": [
    "import tweepy\n",
    "import json\n",
    "import pandas as pd\n",
    "import requests\n",
    "from io import StringIO\n",
    "from timeit import default_timer as timer\n",
    "import matplotlib.pyplot as plt"
   ]
  },
  {
   "cell_type": "code",
   "execution_count": 2,
   "metadata": {},
   "outputs": [],
   "source": [
    "twitter_archive_master = pd.read_csv('twitter_archive_master.csv')"
   ]
  },
  {
   "cell_type": "markdown",
   "metadata": {},
   "source": [
    "### Insights:\n",
    "1. Among the collected dataset, a remarkable trend emerges, showcasing the golden retriever as the frontrunner in terms of retweet count, commanding an impressive share of 7.78%. Following closely, in second place, is the Pembroke with a notable engagement rate of 5.4%. The third position is secured by the Labrador retriever, contributing a significant 4.55%. At the forefront of the subsequent tier, the Chihuahua claims the fourth spot with a robust 2.85% share. Wrapping up the roster of the top five, the Show dog captures the fifth position with a participation rate of 2.62%. Cumulatively, these figures amount to an overall total of 23.20%."
   ]
  },
  {
   "cell_type": "code",
   "execution_count": 10,
   "metadata": {},
   "outputs": [
    {
     "data": {
      "text/html": [
       "<div>\n",
       "<style scoped>\n",
       "    .dataframe tbody tr th:only-of-type {\n",
       "        vertical-align: middle;\n",
       "    }\n",
       "\n",
       "    .dataframe tbody tr th {\n",
       "        vertical-align: top;\n",
       "    }\n",
       "\n",
       "    .dataframe thead th {\n",
       "        text-align: right;\n",
       "    }\n",
       "</style>\n",
       "<table border=\"1\" class=\"dataframe\">\n",
       "  <thead>\n",
       "    <tr style=\"text-align: right;\">\n",
       "      <th></th>\n",
       "      <th>Retweet_Sum</th>\n",
       "      <th>Percentage_Participation</th>\n",
       "    </tr>\n",
       "    <tr>\n",
       "      <th>p1</th>\n",
       "      <th></th>\n",
       "      <th></th>\n",
       "    </tr>\n",
       "  </thead>\n",
       "  <tbody>\n",
       "    <tr>\n",
       "      <th>golden_retriever</th>\n",
       "      <td>205921</td>\n",
       "      <td>7.781513</td>\n",
       "    </tr>\n",
       "    <tr>\n",
       "      <th>Pembroke</th>\n",
       "      <td>143397</td>\n",
       "      <td>5.418804</td>\n",
       "    </tr>\n",
       "    <tr>\n",
       "      <th>Labrador_retriever</th>\n",
       "      <td>119588</td>\n",
       "      <td>4.519090</td>\n",
       "    </tr>\n",
       "    <tr>\n",
       "      <th>Chihuahua</th>\n",
       "      <td>75642</td>\n",
       "      <td>2.858422</td>\n",
       "    </tr>\n",
       "    <tr>\n",
       "      <th>chow</th>\n",
       "      <td>69341</td>\n",
       "      <td>2.620315</td>\n",
       "    </tr>\n",
       "    <tr>\n",
       "      <th>pug</th>\n",
       "      <td>57012</td>\n",
       "      <td>2.154416</td>\n",
       "    </tr>\n",
       "    <tr>\n",
       "      <th>malamute</th>\n",
       "      <td>55592</td>\n",
       "      <td>2.100756</td>\n",
       "    </tr>\n",
       "    <tr>\n",
       "      <th>toy_poodle</th>\n",
       "      <td>50869</td>\n",
       "      <td>1.922280</td>\n",
       "    </tr>\n",
       "    <tr>\n",
       "      <th>Samoyed</th>\n",
       "      <td>50528</td>\n",
       "      <td>1.909394</td>\n",
       "    </tr>\n",
       "    <tr>\n",
       "      <th>German_shepherd</th>\n",
       "      <td>41909</td>\n",
       "      <td>1.583692</td>\n",
       "    </tr>\n",
       "  </tbody>\n",
       "</table>\n",
       "</div>"
      ],
      "text/plain": [
       "                    Retweet_Sum  Percentage_Participation\n",
       "p1                                                       \n",
       "golden_retriever         205921                  7.781513\n",
       "Pembroke                 143397                  5.418804\n",
       "Labrador_retriever       119588                  4.519090\n",
       "Chihuahua                 75642                  2.858422\n",
       "chow                      69341                  2.620315\n",
       "pug                       57012                  2.154416\n",
       "malamute                  55592                  2.100756\n",
       "toy_poodle                50869                  1.922280\n",
       "Samoyed                   50528                  1.909394\n",
       "German_shepherd           41909                  1.583692"
      ]
     },
     "execution_count": 10,
     "metadata": {},
     "output_type": "execute_result"
    }
   ],
   "source": [
    "retweet_sum = twitter_archive_master.groupby('p1')['retweet_count'].sum()\n",
    "\n",
    "# Calculate total retweet count\n",
    "total_retweet_count = retweet_sum.sum()\n",
    "\n",
    "# Calculate percentage participation\n",
    "percentage_participation = (retweet_sum / total_retweet_count) * 100\n",
    "\n",
    "# Create a dataframe with retweet sum and percentage participation\n",
    "result_df = pd.DataFrame({\n",
    "    'Retweet_Sum': retweet_sum,\n",
    "    'Percentage_Participation': percentage_participation\n",
    "})\n",
    "\n",
    "# Sort the dataframe by Retweet_Sum in descending order and show the top 10\n",
    "top_10_retweets = result_df.sort_values(by = 'Retweet_Sum'\n",
    "                                       ,ascending = False).head(10)\n",
    "top_10_retweets"
   ]
  },
  {
   "cell_type": "markdown",
   "metadata": {},
   "source": [
    "2. Among the collected dataset, a remarkable trend emerges, showcasing the golden retriever as the frontrunner in terms of retweet count, commanding an impressive share of 8.31%. Following closely, in second place, is the Pembroke with a notable engagement rate of 5.44%. The third position is secured by the Labrador retriever, contributing a significant 4.61%. In contrast with tie retweet information, the Chow claims the fourth spot with a robust 2.67% share. Wrapping up the roster of the top five, the Chihuaua dog captures the fifth position with a participation rate of 2.65%. Cumulatively, these figures amount to an overall total of 23.51%."
   ]
  },
  {
   "cell_type": "code",
   "execution_count": 6,
   "metadata": {},
   "outputs": [
    {
     "data": {
      "text/html": [
       "<div>\n",
       "<style scoped>\n",
       "    .dataframe tbody tr th:only-of-type {\n",
       "        vertical-align: middle;\n",
       "    }\n",
       "\n",
       "    .dataframe tbody tr th {\n",
       "        vertical-align: top;\n",
       "    }\n",
       "\n",
       "    .dataframe thead th {\n",
       "        text-align: right;\n",
       "    }\n",
       "</style>\n",
       "<table border=\"1\" class=\"dataframe\">\n",
       "  <thead>\n",
       "    <tr style=\"text-align: right;\">\n",
       "      <th></th>\n",
       "      <th>favorite_sum</th>\n",
       "      <th>Percentage_Participation</th>\n",
       "    </tr>\n",
       "    <tr>\n",
       "      <th>p1</th>\n",
       "      <th></th>\n",
       "      <th></th>\n",
       "    </tr>\n",
       "  </thead>\n",
       "  <tbody>\n",
       "    <tr>\n",
       "      <th>golden_retriever</th>\n",
       "      <td>759768</td>\n",
       "      <td>8.313158</td>\n",
       "    </tr>\n",
       "    <tr>\n",
       "      <th>Pembroke</th>\n",
       "      <td>497124</td>\n",
       "      <td>5.439384</td>\n",
       "    </tr>\n",
       "    <tr>\n",
       "      <th>Labrador_retriever</th>\n",
       "      <td>421773</td>\n",
       "      <td>4.614916</td>\n",
       "    </tr>\n",
       "    <tr>\n",
       "      <th>chow</th>\n",
       "      <td>244529</td>\n",
       "      <td>2.675564</td>\n",
       "    </tr>\n",
       "    <tr>\n",
       "      <th>Chihuahua</th>\n",
       "      <td>242730</td>\n",
       "      <td>2.655880</td>\n",
       "    </tr>\n",
       "    <tr>\n",
       "      <th>malamute</th>\n",
       "      <td>195498</td>\n",
       "      <td>2.139082</td>\n",
       "    </tr>\n",
       "    <tr>\n",
       "      <th>German_shepherd</th>\n",
       "      <td>165895</td>\n",
       "      <td>1.815174</td>\n",
       "    </tr>\n",
       "    <tr>\n",
       "      <th>pug</th>\n",
       "      <td>162572</td>\n",
       "      <td>1.778815</td>\n",
       "    </tr>\n",
       "    <tr>\n",
       "      <th>toy_poodle</th>\n",
       "      <td>160179</td>\n",
       "      <td>1.752631</td>\n",
       "    </tr>\n",
       "    <tr>\n",
       "      <th>French_bulldog</th>\n",
       "      <td>158211</td>\n",
       "      <td>1.731098</td>\n",
       "    </tr>\n",
       "  </tbody>\n",
       "</table>\n",
       "</div>"
      ],
      "text/plain": [
       "                    favorite_sum  Percentage_Participation\n",
       "p1                                                        \n",
       "golden_retriever          759768                  8.313158\n",
       "Pembroke                  497124                  5.439384\n",
       "Labrador_retriever        421773                  4.614916\n",
       "chow                      244529                  2.675564\n",
       "Chihuahua                 242730                  2.655880\n",
       "malamute                  195498                  2.139082\n",
       "German_shepherd           165895                  1.815174\n",
       "pug                       162572                  1.778815\n",
       "toy_poodle                160179                  1.752631\n",
       "French_bulldog            158211                  1.731098"
      ]
     },
     "execution_count": 6,
     "metadata": {},
     "output_type": "execute_result"
    }
   ],
   "source": [
    "favorite_sum = twitter_archive_master.groupby('p1')['favorite_count'].sum()\n",
    "\n",
    "total_favorite_count = favorite_sum.sum()\n",
    "percentage_participation = (favorite_sum / total_favorite_count) * 100\n",
    "result_df = pd.DataFrame({'favorite_sum': favorite_sum\n",
    "                         ,'Percentage_Participation': percentage_participation})\n",
    "top_10_retweets = result_df.sort_values(by = 'favorite_sum'\n",
    "                                       , ascending = False).head(10)\n",
    "top_10_retweets"
   ]
  },
  {
   "cell_type": "markdown",
   "metadata": {},
   "source": [
    "3. \"We have comprehensive information about tweet counts within two specific time ranges: from midnight until 6:20 AM, and from 1:00 PM until midnight. The first range has the most amount of tweets. However, we lack data for the time interval between 7:00 AM and 1:00 PM. One hypothesis suggests that these tweets originate from a very specific geographical location, which could explain the heightened activity during these time frames. Unfortunately, we do not possess geolocation data for the tweets to substantiate this hypothesis."
   ]
  },
  {
   "cell_type": "code",
   "execution_count": 7,
   "metadata": {},
   "outputs": [
    {
     "data": {
      "text/html": [
       "<div>\n",
       "<style scoped>\n",
       "    .dataframe tbody tr th:only-of-type {\n",
       "        vertical-align: middle;\n",
       "    }\n",
       "\n",
       "    .dataframe tbody tr th {\n",
       "        vertical-align: top;\n",
       "    }\n",
       "\n",
       "    .dataframe thead th {\n",
       "        text-align: right;\n",
       "    }\n",
       "</style>\n",
       "<table border=\"1\" class=\"dataframe\">\n",
       "  <thead>\n",
       "    <tr style=\"text-align: right;\">\n",
       "      <th></th>\n",
       "      <th>tweet_id</th>\n",
       "      <th>timestamp</th>\n",
       "      <th>date</th>\n",
       "      <th>hour</th>\n",
       "      <th>source</th>\n",
       "      <th>expanded_urls</th>\n",
       "      <th>rating_numerator</th>\n",
       "      <th>rating_denominator</th>\n",
       "      <th>name</th>\n",
       "      <th>jpg_url</th>\n",
       "      <th>...</th>\n",
       "      <th>p2_conf</th>\n",
       "      <th>p2_dog</th>\n",
       "      <th>p3</th>\n",
       "      <th>p3_conf</th>\n",
       "      <th>p3_dog</th>\n",
       "      <th>retweet_count</th>\n",
       "      <th>favorite_count</th>\n",
       "      <th>full_text</th>\n",
       "      <th>display_text_range</th>\n",
       "      <th>text</th>\n",
       "    </tr>\n",
       "  </thead>\n",
       "  <tbody>\n",
       "  </tbody>\n",
       "</table>\n",
       "<p>0 rows × 25 columns</p>\n",
       "</div>"
      ],
      "text/plain": [
       "Empty DataFrame\n",
       "Columns: [tweet_id, timestamp, date, hour, source, expanded_urls, rating_numerator, rating_denominator, name, jpg_url, img_num, p1, p1_conf, p1_dog, p2, p2_conf, p2_dog, p3, p3_conf, p3_dog, retweet_count, favorite_count, full_text, display_text_range, text]\n",
       "Index: []\n",
       "\n",
       "[0 rows x 25 columns]"
      ]
     },
     "execution_count": 7,
     "metadata": {},
     "output_type": "execute_result"
    }
   ],
   "source": [
    "twitter_archive_master[(twitter_archive_master['hour'] <= '13:00:00') & (twitter_archive_master['hour'] >= '07:00:00')]"
   ]
  },
  {
   "cell_type": "code",
   "execution_count": 8,
   "metadata": {},
   "outputs": [
    {
     "data": {
      "image/png": "[encoded data removed]",
      "text/plain": [
       "<Figure size 720x432 with 1 Axes>"
      ]
     },
     "metadata": {
      "needs_background": "light"
     },
     "output_type": "display_data"
    }
   ],
   "source": [
    "twitter_archive_master['hour_exacly'] = pd.to_datetime(twitter_archive_master['hour'], format='%H:%M:%S').dt.hour\n",
    "hourly_counts = twitter_archive_master.groupby('hour_exacly').size()\n",
    "\n",
    "plt.figure(figsize=(10, 6))\n",
    "plt.bar(hourly_counts.index, hourly_counts.values, color='black')\n",
    "plt.title('Tweet Counts by Hour')\n",
    "plt.xlabel('Hour')\n",
    "plt.ylabel('Tweet Count')\n",
    "plt.xticks(hourly_counts.index)\n",
    "plt.grid(True)\n",
    "plt.show()"
   ]
  },
  {
   "cell_type": "markdown",
   "metadata": {
    "collapsed": true
   },
   "source": [
    "### Visualization"
   ]
  },
  {
   "cell_type": "markdown",
   "metadata": {},
   "source": [
    "As evident from the time series, the highest volume of tweets was observed between November of 2015 and January of 2016. However, beginning in March of 2016, a gradual decline in engagement became discernible, continuing at a moderate pace until July of 2017."
   ]
  },
  {
   "cell_type": "code",
   "execution_count": 9,
   "metadata": {},
   "outputs": [
    {
     "data": {
      "image/png": "[encoded data removed]",
      "text/plain": [
       "<Figure size 720x432 with 1 Axes>"
      ]
     },
     "metadata": {
      "needs_background": "light"
     },
     "output_type": "display_data"
    }
   ],
   "source": [
    "twitter_archive_master['timestamp'] = pd.to_datetime(twitter_archive_master['timestamp'])\n",
    "\n",
    "# Establece 'timestamp' como el índice\n",
    "twitter_archive_master.set_index('timestamp', inplace=True)\n",
    "\n",
    "# Cuenta la cantidad de registros para cada fecha\n",
    "daily_counts = twitter_archive_master.groupby(twitter_archive_master.index.date).size()\n",
    "\n",
    "# Convierte el índice de nuevo a un DatetimeIndex\n",
    "daily_counts.index = pd.to_datetime(daily_counts.index)\n",
    "\n",
    "# Plot de la serie de tiempo\n",
    "plt.figure(figsize=(10, 6))\n",
    "daily_counts.plot(color='blue')\n",
    "plt.title('Amounts of tweets per day')\n",
    "plt.xlabel('Date')\n",
    "plt.ylabel('Amount de tweets')\n",
    "plt.grid(True)\n",
    "plt.show()"
   ]
  },
  {
   "cell_type": "code",
   "execution_count": null,
   "metadata": {},
   "outputs": [],
   "source": []
  }
 ],
 "metadata": {
  "kernelspec": {
   "display_name": "Python 3",
   "language": "python",
   "name": "python3"
  },
  "language_info": {
   "codemirror_mode": {
    "name": "ipython",
    "version": 3
   },
   "file_extension": ".py",
   "mimetype": "text/x-python",
   "name": "python",
   "nbconvert_exporter": "python",
   "pygments_lexer": "ipython3",
   "version": "3.8.8"
  },
  "toc": {
   "base_numbering": 1,
   "nav_menu": {},
   "number_sections": true,
   "sideBar": true,
   "skip_h1_title": false,
   "title_cell": "Table of Contents",
   "title_sidebar": "Contents",
   "toc_cell": false,
   "toc_position": {},
   "toc_section_display": true,
   "toc_window_display": false
  },
  "varInspector": {
   "cols": {
    "lenName": 16,
    "lenType": 16,
    "lenVar": 40
   },
   "kernels_config": {
    "python": {
     "delete_cmd_postfix": "",
     "delete_cmd_prefix": "del ",
     "library": "var_list.py",
     "varRefreshCmd": "print(var_dic_list())"
    },
    "r": {
     "delete_cmd_postfix": ") ",
     "delete_cmd_prefix": "rm(",
     "library": "var_list.r",
     "varRefreshCmd": "cat(var_dic_list()) "
    }
   },
   "types_to_exclude": [
    "module",
    "function",
    "builtin_function_or_method",
    "instance",
    "_Feature"
   ],
   "window_display": false
  }
 },
 "nbformat": 4,
 "nbformat_minor": 2
}
